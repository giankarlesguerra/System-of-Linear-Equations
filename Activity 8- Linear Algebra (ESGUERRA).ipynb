{
 "cells": [
  {
   "cell_type": "markdown",
   "metadata": {},
   "source": [
    "# <b>Linear Algebra for CpE"
   ]
  },
  {
   "cell_type": "markdown",
   "metadata": {},
   "source": [
    "## Laboratory 8: System of Linear Equations"
   ]
  },
  {
   "cell_type": "markdown",
   "metadata": {},
   "source": [
    "<h5>Coded and Submitted by:\n",
    "<h5><i>Esguerra, Gian Karl J.<i>\n",
    "<h5><i>2018113661<i>\n",
    "<h5><i>58011<i>"
   ]
  },
  {
   "cell_type": "markdown",
   "metadata": {},
   "source": [
    "### <b>EXERCISE<b>"
   ]
  },
  {
   "cell_type": "markdown",
   "metadata": {},
   "source": [
    "1. Try to find your own example of a system of linear equations (minimum of 2 equations) and solve them using the inverse equation. Explain the details of your example."
   ]
  },
  {
   "cell_type": "markdown",
   "metadata": {},
   "source": [
    "Gian ordered a 5 Burger and 7 Large Fries in  Jollibee with a cost of PHP 730. While Karl ordered a 6 Burger and 4 Large Fries in Mcdo with a cost of PHP 518.\n",
    "What is the individual price for a single Burger and a Large Fries?"
   ]
  },
  {
   "cell_type": "markdown",
   "metadata": {},
   "source": [
    "$$ 5x + 7y = 730 $$$$ 6x + 4y = 518  $$"
   ]
  },
  {
   "cell_type": "code",
   "execution_count": 12,
   "metadata": {},
   "outputs": [],
   "source": [
    "import numpy as np\n",
    "import matplotlib.pyplot as plt \n",
    "%matplotlib inline"
   ]
  },
  {
   "cell_type": "code",
   "execution_count": 22,
   "metadata": {},
   "outputs": [
    {
     "name": "stdout",
     "output_type": "stream",
     "text": [
      "[[5, 7], [6, 4]] \n",
      " [[730], [518]]\n"
     ]
    }
   ],
   "source": [
    "foods = ([\n",
    "    [5,7],\n",
    "    [6,4]\n",
    "])\n",
    "price = ([\n",
    "    [730],\n",
    "    [518]\n",
    "])\n",
    "print(foods,'\\n',price)"
   ]
  },
  {
   "cell_type": "code",
   "execution_count": 19,
   "metadata": {},
   "outputs": [
    {
     "name": "stdout",
     "output_type": "stream",
     "text": [
      "The individual price for a Burger is: PHP32.09\n",
      "The individual price for a Large Fries is: PHP81.36\n"
     ]
    }
   ],
   "source": [
    "ind_price = np.linalg.inv(foods) @ price\n",
    "print('The individual price for a Burger is: PHP{:.2f}'.format(float(ind_price[0])))\n",
    "print('The individual price for a Large Fries is: PHP{:.2f}'.format(float(ind_price[1])))\n",
    "\n",
    "### inverse"
   ]
  },
  {
   "cell_type": "markdown",
   "metadata": {},
   "source": [
    "2. Using your example in (1) solve it using np.linalg.solve(). Explain the functions and its difference using the inverse equation."
   ]
  },
  {
   "cell_type": "code",
   "execution_count": 20,
   "metadata": {},
   "outputs": [
    {
     "name": "stdout",
     "output_type": "stream",
     "text": [
      "The individual price of a Burger is: PHP32.09\n",
      "The individual price of a Large Fries is: PHP81.36\n"
     ]
    }
   ],
   "source": [
    "ind_price2 = np.linalg.solve(foods,price)\n",
    "print('The individual price of a Burger is: PHP{:.2f}'.format(float(ind_price2[0])))\n",
    "print('The individual price of a Large Fries is: PHP{:.2f}'.format(float(ind_price2[1])))\n",
    "\n"
   ]
  }
 ],
 "metadata": {
  "kernelspec": {
   "display_name": "Python 3",
   "language": "python",
   "name": "python3"
  },
  "language_info": {
   "codemirror_mode": {
    "name": "ipython",
    "version": 3
   },
   "file_extension": ".py",
   "mimetype": "text/x-python",
   "name": "python",
   "nbconvert_exporter": "python",
   "pygments_lexer": "ipython3",
   "version": "3.8.3"
  }
 },
 "nbformat": 4,
 "nbformat_minor": 4
}
